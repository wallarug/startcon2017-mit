{
 "cells": [
  {
   "cell_type": "code",
   "execution_count": null,
   "metadata": {
    "collapsed": false
   },
   "outputs": [],
   "source": [
    "import pandas as pd\n",
    "import numpy as np\n",
    "import glob as glob\n",
    "import matplotlib.pyplot as plt\n",
    "import matplotlib.image as mpimg\n",
    "import scipy.misc as misc\n",
    "import cv2 as cv2\n",
    "%matplotlib inline"
   ]
  },
  {
   "cell_type": "code",
   "execution_count": null,
   "metadata": {
    "collapsed": false
   },
   "outputs": [],
   "source": [
    "files = glob.glob(\"../bagfiles/remote_control/images/*.jpg\")\n",
    "df = pd.DataFrame(files, columns=[\"file\"])\n",
    "df.head()\n",
    "df[\"steer\"] = df[\"file\"].replace(to_replace=\"(.*)?leftimage_\", value=\"\", regex=True)\n",
    "df[\"steer\"] = df[\"steer\"].replace(to_replace=\".jpg\", value=\"\", regex=True)\n",
    "df[\"steer\"] = pd.to_numeric(df[\"steer\"])\n",
    "print(df.dtypes)\n",
    "df.head()\n",
    "df.shape"
   ]
  },
  {
   "cell_type": "code",
   "execution_count": null,
   "metadata": {
    "collapsed": false
   },
   "outputs": [],
   "source": [
    "def show_image(index):\n",
    "    print(df['file'][index])\n",
    "    image = mpimg.imread(df['file'][index])\n",
    "    print(image.shape)\n",
    "    plt.imshow(image)\n",
    "    plt.xlabel(\"Steering angle: {} \".format(df['steer'][index]))\n",
    "\n",
    "show_image(130)"
   ]
  },
  {
   "cell_type": "code",
   "execution_count": null,
   "metadata": {
    "collapsed": false
   },
   "outputs": [],
   "source": [
    "def shuffle_images(df): \n",
    "    mask = df[\"steer\"] == 0\n",
    "    zeros = df[mask]\n",
    "    nonzeros = df[mask==False]\n",
    "    sample_size = int(zeros.shape[0]*0.10)\n",
    "    zero_sample = zeros.sample(n=sample_size)\n",
    "    \n",
    "    return zero_sample.append(nonzeros).sample(frac=1).reset_index(drop=True)\n",
    "\n",
    "sample = shuffle_images(df)\n",
    "print(sample.shape[0])"
   ]
  },
  {
   "cell_type": "code",
   "execution_count": null,
   "metadata": {
    "collapsed": false
   },
   "outputs": [],
   "source": [
    "def get_images(df): \n",
    "    result = [] \n",
    "    for path in df[\"file\"]:\n",
    "        try:\n",
    "            img = cv2.imread(path)\n",
    "            img = img[200:, :]\n",
    "    #         img = misc.imresize(img, (113,168))\n",
    "            img = cv2.resize(img, (168, 44), interpolation=cv2.INTER_AREA)\n",
    "            result.append(img)\n",
    "        except: \n",
    "            print(path)\n",
    "            continue\n",
    "    return np.stack(result)\n",
    "\n",
    "x = get_images(df)\n",
    "print(x.shape)\n",
    "y = df.as_matrix(columns=['steer'])\n",
    "plt.imshow(x[0])\n",
    "print(y.shape)\n",
    "print(y[10:15])\n",
    "plt.figure()\n",
    "plt.hist(y)"
   ]
  },
  {
   "cell_type": "code",
   "execution_count": null,
   "metadata": {
    "collapsed": false
   },
   "outputs": [],
   "source": [
    "# TODO: Build a model\n",
    "import keras\n",
    "from keras.models import Sequential, Model\n",
    "from keras.layers import Cropping2D, Lambda, Input\n",
    "from keras.layers.core import Activation, Dense, Flatten, Dropout\n",
    "from keras.layers.convolutional import Conv2D\n",
    "from keras.layers.pooling import MaxPooling2D, AveragePooling2D\n",
    "from keras.optimizers import Adam\n",
    "from keras.applications.vgg16 import VGG16\n",
    "from keras.layers import BatchNormalization\n",
    "from keras.regularizers import l2\n",
    "\n",
    "def Nvidia():\n",
    "    model = Sequential()\n",
    "#     model.add(Lambda(lambda x: (x / 255.0) - 0.5, input_shape=(64,64,3)))\n",
    "    model.add(Conv2D(24, (3, 3), strides=(2, 2), padding=\"same\", activation=\"relu\", input_shape=(44,168,3)))\n",
    "    model.add(BatchNormalization(axis=1, gamma_regularizer=l2(0.0001), beta_regularizer=l2(0.0001)))\n",
    "    model.add(Dropout(0.2))\n",
    "    model.add(Conv2D(36, (3, 3), strides=(2, 2), padding=\"same\", activation=\"relu\"))\n",
    "    model.add(BatchNormalization(axis=1, gamma_regularizer=l2(0.0001), beta_regularizer=l2(0.0001)))\n",
    "    model.add(Dropout(0.2))\n",
    "    model.add(Conv2D(48, (3, 3), strides=(2, 2), padding=\"same\", activation=\"relu\"))\n",
    "    model.add(BatchNormalization(axis=1, gamma_regularizer=l2(0.0001), beta_regularizer=l2(0.0001)))\n",
    "    model.add(Dropout(0.2))\n",
    "    model.add(Conv2D(64, (3, 3), strides=(2, 2), padding=\"same\", activation=\"relu\"))\n",
    "    model.add(BatchNormalization(axis=1, gamma_regularizer=l2(0.0001), beta_regularizer=l2(0.0001)))\n",
    "    model.add(Dropout(0.2))\n",
    "    model.add(Conv2D(64, (3, 3), strides=(1, 1), padding=\"same\", activation=\"relu\"))\n",
    "    model.add(BatchNormalization(axis=1, gamma_regularizer=l2(0.0001), beta_regularizer=l2(0.0001)))\n",
    "    model.add(Dropout(0.2))\n",
    "    model.add(Flatten())\n",
    "    model.add(Dense(500, activation=\"relu\"))\n",
    "    model.add(Dense(125, activation=\"relu\"))\n",
    "    model.add(Dense(25, activation=\"relu\"))\n",
    "    model.add(Dense(1))\n",
    "    adam = Adam(lr=0.001)\n",
    "    model.compile(adam, 'mae')\n",
    "    return model\n",
    "\n",
    "model = Nvidia()\n",
    "model.summary()"
   ]
  },
  {
   "cell_type": "code",
   "execution_count": null,
   "metadata": {
    "collapsed": false
   },
   "outputs": [],
   "source": [
    "import random\n",
    "import scipy.ndimage as ndi\n",
    "\n",
    "def trans_image(image,steer):\n",
    "    # Translation\n",
    "    scale = np.random.normal(loc=0.0, scale=.5)\n",
    "    steer_ang = steer + 0.1 * scale\n",
    "    tx = 0\n",
    "    ty = 100 * scale\n",
    "\n",
    "    translation_matrix = np.float32([[1, 0, tx],\n",
    "                                     [0, 1, ty],\n",
    "                                     [0, 0, 1 ]])\n",
    "#     image_tr = cv.warpAffine(image,translation_matrix,(image.shape[1],image.shape[0]))\n",
    "    image_tr = apply_transform(image, translation_matrix)\n",
    "    \n",
    "    steer_ang = max(-0.34, steer_ang)\n",
    "    steer_ang = min(0.34, steer_ang)\n",
    "    \n",
    "    return image_tr,steer_ang\n",
    "\n",
    "def apply_transform(x,\n",
    "                    transform_matrix,\n",
    "                    channel_axis=2,\n",
    "                    fill_mode='nearest',\n",
    "                    cval=0.):\n",
    "    \"\"\"Apply the image transformation specified by a matrix.\n",
    "    # Arguments\n",
    "        x: 2D numpy array, single image.\n",
    "        transform_matrix: Numpy array specifying the geometric transformation.\n",
    "        channel_axis: Index of axis for channels in the input tensor.\n",
    "        fill_mode: Points outside the boundaries of the input\n",
    "            are filled according to the given mode\n",
    "            (one of `{'constant', 'nearest', 'reflect', 'wrap'}`).\n",
    "        cval: Value used for points outside the boundaries\n",
    "            of the input if `mode='constant'`.\n",
    "    # Returns\n",
    "        The transformed version of the input.\n",
    "    \"\"\"\n",
    "    x = np.rollaxis(x, channel_axis, 0)\n",
    "    final_affine_matrix = transform_matrix[:2, :2]\n",
    "    final_offset = transform_matrix[:2, 2]\n",
    "    channel_images = [ndi.interpolation.affine_transform(\n",
    "        x_channel,\n",
    "        final_affine_matrix,\n",
    "        final_offset,\n",
    "        order=0,\n",
    "        mode=fill_mode,\n",
    "        cval=cval) for x_channel in x]\n",
    "    x = np.stack(channel_images, axis=0)\n",
    "    x = np.rollaxis(x, 0, channel_axis + 1)\n",
    "    return x\n",
    "\n",
    "def augment_brightness_camera_images(image):\n",
    "    image1 = cv2.cvtColor(image,cv2.COLOR_RGB2HSV)\n",
    "    random_bright = .25+np.random.uniform()\n",
    "    toobright = image1[:,:,2] > 255/random_bright\n",
    "    image1[:,:,2] = image1[:,:,2]*random_bright\n",
    "    image1[:,:,2][toobright] = 255\n",
    "    image1 = cv2.cvtColor(image1,cv2.COLOR_HSV2RGB)\n",
    "    return image1\n",
    "\n",
    "def crop_resize(img):\n",
    "    img = img[200:, :]\n",
    "#     img = cv.cvtColor(img, cv.COLOR_RGB2YUV)\n",
    "    img = cv2.resize(img, (168, 44), interpolation=cv2.INTER_AREA)\n",
    "    return img\n",
    "\n",
    "def preprocess_img(row):\n",
    "    img = None\n",
    "    steering = None\n",
    "    steering = row['steer']\n",
    "        \n",
    "    img = cv2.imread(row[\"file\"])\n",
    "    img, steering = trans_image(img, steering)\n",
    "    img = crop_resize(img)\n",
    "    \n",
    "    # randomly adjust brightness \n",
    "    img = augment_brightness_camera_images(img)\n",
    "    \n",
    "    #random flip\n",
    "    flip = random.randint(0, 1)\n",
    "    if flip == 1: \n",
    "        img = np.fliplr(img)\n",
    "        steering = -steering\n",
    "    \n",
    "    return img, steering\n",
    "\n",
    "img, steering = preprocess_img(df.iloc[0])\n",
    "print(steering)\n",
    "plt.imshow(img)"
   ]
  },
  {
   "cell_type": "code",
   "execution_count": null,
   "metadata": {
    "collapsed": false
   },
   "outputs": [],
   "source": [
    "img, steering = preprocess_img(df.iloc[0])\n",
    "print(steering)\n",
    "plt.imshow(img)"
   ]
  },
  {
   "cell_type": "code",
   "execution_count": null,
   "metadata": {
    "collapsed": false
   },
   "outputs": [],
   "source": [
    "## instead of above, and just plain training, let's use a generator to help randomly augment data\n",
    "\n",
    "# df = df[(df['steering'] <= -0.01) | (df['steering'] >= 0.01)].reset_index(drop=True)\n",
    "\n",
    "import sklearn\n",
    "import cv2 as cv2\n",
    "def generator(df, batch_size=256):\n",
    "    \n",
    "    while 1: # Loop forever so the generator never terminates\n",
    "        x_sample = []\n",
    "        y_sample = []\n",
    "        pr_threshold = 1\n",
    "        for i in range(batch_size):\n",
    "            index = np.random.randint(len(df))\n",
    "            row = df.iloc[index]\n",
    "            image, steering = preprocess_img(row)\n",
    "#             keep_pr = 0\n",
    "#             while keep_pr == 0:\n",
    "#                 image, steering = preprocess_img(row)\n",
    "#                 pr_unif = np.random\n",
    "#                 if abs(steering)<.001:\n",
    "#                     pr_val = np.random.uniform()\n",
    "#                     if pr_val>pr_threshold:\n",
    "#                         keep_pr = 1\n",
    "#                 else:\n",
    "#                     keep_pr = 1\n",
    "#             pr_threshold = 0.995 * pr_threshold\n",
    "            x_sample.append(image)\n",
    "            y_sample.append(steering)\n",
    "        yield np.stack(x_sample), np.asarray(y_sample).reshape(batch_size, 1)\n",
    "#         pr_threshold = 0.90 * pr_threshold\n",
    "\n",
    "sample = shuffle_images(df)\n",
    "train_generator = generator(sample)\n",
    "validation_generator = generator(df)"
   ]
  },
  {
   "cell_type": "code",
   "execution_count": null,
   "metadata": {
    "collapsed": false
   },
   "outputs": [],
   "source": [
    "# testing distribution\n",
    "test_y = [next(train_generator)[1] for i in range(5)]\n",
    "test_y = np.vstack(test_y)\n",
    "\n",
    "plt.figure(figsize=(20,10))\n",
    "plt.hist(test_y, bins=20)\n",
    "# this will shuffle a dataframe df.sample(frac=1).reset_index(drop=True)"
   ]
  },
  {
   "cell_type": "code",
   "execution_count": null,
   "metadata": {
    "collapsed": false
   },
   "outputs": [],
   "source": [
    "for i in range(20):\n",
    "    sample = shuffle_images(df)\n",
    "    train_generator = generator(sample)\n",
    "    model.optimizer.lr.assign(0.01)\n",
    "    history = model.fit_generator(train_generator, steps_per_epoch=10, epochs=10, verbose=1)"
   ]
  },
  {
   "cell_type": "code",
   "execution_count": null,
   "metadata": {
    "collapsed": true
   },
   "outputs": [],
   "source": [
    "### print the keys contained in the history object\n",
    "print(history.history.keys())\n",
    "\n",
    "### plot the training and validation loss for each epoch\n",
    "plt.plot(history.history['loss'])\n",
    "# plt.plot(history.history['val_loss'])\n",
    "plt.xlabel('epoch')\n",
    "plt.legend(['training set', 'validation set'], loc='upper right')\n",
    "plt.show()"
   ]
  },
  {
   "cell_type": "code",
   "execution_count": null,
   "metadata": {
    "collapsed": true
   },
   "outputs": [],
   "source": [
    "model.save('./driving_net_model.h5')\n",
    "model.save_weights(\"./driving_net_weights.h5\")"
   ]
  },
  {
   "cell_type": "code",
   "execution_count": null,
   "metadata": {
    "collapsed": true
   },
   "outputs": [],
   "source": [
    "model.save('./driving_net_shift_model.h5')\n",
    "model.save_weights(\"./driving_net_shift_weights.h5\")"
   ]
  },
  {
   "cell_type": "code",
   "execution_count": null,
   "metadata": {
    "collapsed": true
   },
   "outputs": [],
   "source": [
    "from keras.models import load_model\n",
    "model = load_model('./driving_net_shift_model.h5')"
   ]
  },
  {
   "cell_type": "code",
   "execution_count": null,
   "metadata": {
    "collapsed": true
   },
   "outputs": [],
   "source": []
  },
  {
   "cell_type": "code",
   "execution_count": null,
   "metadata": {
    "collapsed": false
   },
   "outputs": [],
   "source": [
    "import random\n",
    "\n",
    "# x, y = next(generator(df))\n",
    "\n",
    "diff = []\n",
    "for i in range(1, 10):\n",
    "    test_index=random.randint(0, len(df))\n",
    "#     print(test_index)\n",
    "    test_image = cv2.imread(df['file'][test_index])\n",
    "    test_image = crop_resize(test_image)\n",
    "    y  = df['steer'][test_index]\n",
    "    %timeit prediction = model.predict(test_image[None, :, :, :], batch_size=1)[0][0]\n",
    "    diff.append(prediction - y)\n",
    "    plt.figure()\n",
    "    plt.imshow(test_image)\n",
    "    plt.title(\"\".join([\"index:\", str(test_index), \" actual: \", str(y), \" prediction:\", str(prediction)\n",
    "                        , \" diff:\", str(prediction - y)]))\n",
    "#     print(\"index:\", test_index, \" actual: \", y, \" prediction:\", prediction, \" diff:\", prediction - y)\n",
    "\n",
    "print(\"std: \", np.array(diff).std())"
   ]
  },
  {
   "cell_type": "markdown",
   "metadata": {},
   "source": [
    "   # Smaller CNN"
   ]
  },
  {
   "cell_type": "code",
   "execution_count": null,
   "metadata": {
    "collapsed": false
   },
   "outputs": [],
   "source": [
    "import keras\n",
    "from keras.models import Sequential, Model\n",
    "from keras.layers import Cropping2D, Lambda, Input\n",
    "from keras.layers.core import Activation, Dense, Flatten, Dropout\n",
    "from keras.layers.convolutional import Conv2D\n",
    "from keras.layers.pooling import MaxPooling2D, AveragePooling2D\n",
    "from keras.optimizers import Adam\n",
    "from keras.applications.vgg16 import VGG16\n",
    "from keras.layers import BatchNormalization\n",
    "from keras.regularizers import l2\n",
    "\n",
    "def Nvidia():\n",
    "    model = Sequential()\n",
    "#     model.add(Lambda(lambda x: (x / 255.0) - 0.5, input_shape=(64,64,3)))\n",
    "    model.add(Conv2D(12, (3, 3), strides=(2, 2), padding=\"same\", activation=\"relu\", input_shape=(44,168,3)))\n",
    "    model.add(BatchNormalization(axis=1, gamma_regularizer=l2(0.0001), beta_regularizer=l2(0.0001)))\n",
    "    model.add(Dropout(0.2))\n",
    "    model.add(Conv2D(18, (3, 3), strides=(2, 2), padding=\"same\", activation=\"relu\"))\n",
    "    model.add(BatchNormalization(axis=1, gamma_regularizer=l2(0.0001), beta_regularizer=l2(0.0001)))\n",
    "    model.add(Dropout(0.2))\n",
    "    model.add(Conv2D(24, (3, 3), strides=(2, 2), padding=\"same\", activation=\"relu\"))\n",
    "    model.add(BatchNormalization(axis=1, gamma_regularizer=l2(0.0001), beta_regularizer=l2(0.0001)))\n",
    "    model.add(Dropout(0.2))\n",
    "    model.add(Conv2D(30, (3, 3), strides=(2, 2), padding=\"same\", activation=\"relu\"))\n",
    "    model.add(BatchNormalization(axis=1, gamma_regularizer=l2(0.0001), beta_regularizer=l2(0.0001)))\n",
    "    model.add(Dropout(0.2))\n",
    "    model.add(Conv2D(36, (3, 3), strides=(1, 1), padding=\"same\", activation=\"relu\"))\n",
    "    model.add(BatchNormalization(axis=1, gamma_regularizer=l2(0.0001), beta_regularizer=l2(0.0001)))\n",
    "    model.add(Dropout(0.2))\n",
    "    model.add(Flatten())\n",
    "    model.add(Dense(250, activation=\"relu\"))\n",
    "    model.add(Dense(40, activation=\"relu\"))\n",
    "    model.add(Dense(10, activation=\"relu\"))\n",
    "    model.add(Dense(1))\n",
    "    adam = Adam(lr=0.001)\n",
    "    model.compile(adam, 'mae')\n",
    "    return model\n",
    "\n",
    "model = Nvidia()\n",
    "model.summary()"
   ]
  },
  {
   "cell_type": "markdown",
   "metadata": {
    "collapsed": true
   },
   "source": [
    "# Dilated Convolutional Neural Net"
   ]
  },
  {
   "cell_type": "code",
   "execution_count": null,
   "metadata": {
    "collapsed": false
   },
   "outputs": [],
   "source": [
    "import keras\n",
    "from keras.models import Sequential, Model\n",
    "from keras.layers import Cropping2D, Lambda, Input\n",
    "from keras.layers.core import Activation, Dense, Flatten, Dropout\n",
    "from keras.layers.convolutional import Conv2D\n",
    "from keras.layers.pooling import MaxPooling2D, AveragePooling2D\n",
    "from keras.optimizers import Adam\n",
    "from keras.applications.vgg16 import VGG16\n",
    "from keras.layers import BatchNormalization\n",
    "from keras.regularizers import l2\n",
    "\n",
    "def Dilated():\n",
    "    model = Sequential()\n",
    "#     model.add(Lambda(lambda x: (x / 255.0) - 0.5, input_shape=(64,64,3)))\n",
    "    model.add(Conv2D(12, (3, 3), strides=(2, 2), padding=\"same\", activation=\"relu\", input_shape=(44,168,3)))\n",
    "#     model.add(BatchNormalization(axis=1, gamma_regularizer=l2(0.0001), beta_regularizer=l2(0.0001)))\n",
    "    model.add(Dropout(0.2))\n",
    "    model.add(Conv2D(12, (3, 3), strides=(1, 1), dilation_rate=(2,2), padding=\"same\", activation=\"relu\"))\n",
    "#     model.add(BatchNormalization(axis=1, gamma_regularizer=l2(0.0001), beta_regularizer=l2(0.0001)))\n",
    "    model.add(Dropout(0.2))\n",
    "    model.add(Conv2D(18, (3, 3), strides=(4, 4), dilation_rate=(1,1), padding=\"same\", activation=\"relu\"))\n",
    "#     model.add(BatchNormalization(axis=1, gamma_regularizer=l2(0.0001), beta_regularizer=l2(0.0001)))\n",
    "    model.add(Dropout(0.2))\n",
    "    model.add(Conv2D(18, (3, 3), strides=(1, 1), dilation_rate=(4,4), padding=\"same\", activation=\"relu\"))\n",
    "#     model.add(BatchNormalization(axis=1, gamma_regularizer=l2(0.0001), beta_regularizer=l2(0.0001)))\n",
    "    model.add(Dropout(0.2))\n",
    "    model.add(Conv2D(24, (3, 3), strides=(2, 2), padding=\"same\", activation=\"relu\"))\n",
    "#     model.add(BatchNormalization(axis=1, gamma_regularizer=l2(0.0001), beta_regularizer=l2(0.0001)))\n",
    "#     model.add(Dropout(0.2))\n",
    "#     model.add(Conv2D(48, (3, 3), strides=(1, 1), padding=\"same\", activation=\"relu\"))\n",
    "#     model.add(BatchNormalization(axis=1, gamma_regularizer=l2(0.0001), beta_regularizer=l2(0.0001)))\n",
    "# #     model.add(Dropout(0.2))\n",
    "#     model.add(Conv2D(48, (3, 3), strides=(2, 2), padding=\"same\", activation=\"relu\"))\n",
    "#     model.add(BatchNormalization(axis=1, gamma_regularizer=l2(0.0001), beta_regularizer=l2(0.0001)))\n",
    "    model.add(Dropout(0.2))\n",
    "    model.add(Flatten())\n",
    "    model.add(Dense(150, activation=\"relu\"))\n",
    "    model.add(Dense(30, activation=\"relu\"))\n",
    "    model.add(Dense(1))\n",
    "    adam = Adam(lr=0.001)\n",
    "    model.compile(adam, 'mae')\n",
    "    return model\n",
    "\n",
    "model = Dilated()\n",
    "model.summary()"
   ]
  },
  {
   "cell_type": "code",
   "execution_count": null,
   "metadata": {
    "collapsed": false,
    "scrolled": true
   },
   "outputs": [],
   "source": [
    "for i in range(40):\n",
    "    sample = shuffle_images(df)\n",
    "    train_generator = generator(sample)\n",
    "    model.optimizer.lr.assign(0.01)\n",
    "    history = model.fit_generator(train_generator, steps_per_epoch=10, epochs=10, verbose=1)"
   ]
  },
  {
   "cell_type": "code",
   "execution_count": null,
   "metadata": {
    "collapsed": true
   },
   "outputs": [],
   "source": [
    "model.save('./driving_net_dilated_model.h5')\n",
    "model.save_weights(\"./driving_net_dilated_weights.h5\")"
   ]
  },
  {
   "cell_type": "code",
   "execution_count": null,
   "metadata": {
    "collapsed": false
   },
   "outputs": [],
   "source": [
    "import random\n",
    "\n",
    "# x, y = next(generator(df))\n",
    "\n",
    "diff = []\n",
    "for i in range(1, 10):\n",
    "    test_index=random.randint(0, len(df))\n",
    "#     print(test_index)\n",
    "    test_image = cv2.imread(df['file'][test_index])\n",
    "    test_image = crop_resize(test_image)\n",
    "    y  = df['steer'][test_index]\n",
    "    %time prediction = model.predict(test_image[None, :, :, :], batch_size=1)[0][0]\n",
    "    diff.append(prediction - y)\n",
    "    plt.figure()\n",
    "    plt.imshow(test_image)\n",
    "    plt.title(\"\".join([\"index:\", str(test_index), \" actual: \", str(y), \" prediction:\", str(prediction)\n",
    "                        , \" diff:\", str(prediction - y)]))\n",
    "#     print(\"index:\", test_index, \" actual: \", y, \" prediction:\", prediction, \" diff:\", prediction - y)\n",
    "\n",
    "print(\"std: \", np.array(diff).std())"
   ]
  },
  {
   "cell_type": "code",
   "execution_count": null,
   "metadata": {
    "collapsed": true
   },
   "outputs": [],
   "source": []
  },
  {
   "cell_type": "code",
   "execution_count": null,
   "metadata": {
    "collapsed": true
   },
   "outputs": [],
   "source": []
  }
 ],
 "metadata": {
  "kernelspec": {
   "display_name": "Python 2",
   "language": "python",
   "name": "python2"
  },
  "language_info": {
   "codemirror_mode": {
    "name": "ipython",
    "version": 2
   },
   "file_extension": ".py",
   "mimetype": "text/x-python",
   "name": "python",
   "nbconvert_exporter": "python",
   "pygments_lexer": "ipython2",
   "version": "2.7.13"
  }
 },
 "nbformat": 4,
 "nbformat_minor": 2
}
